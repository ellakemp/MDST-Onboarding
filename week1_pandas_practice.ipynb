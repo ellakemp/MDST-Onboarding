{
  "nbformat": 4,
  "nbformat_minor": 0,
  "metadata": {
    "colab": {
      "provenance": []
    },
    "kernelspec": {
      "name": "python3",
      "display_name": "Python 3"
    },
    "language_info": {
      "name": "python"
    }
  },
  "cells": [
    {
      "cell_type": "markdown",
      "source": [
        "#**Week 1 - Pandas Practice**\n",
        "\n",
        "Here is where you import the libraries necessary to perform the following tasks!"
      ],
      "metadata": {
        "id": "RW1da3zkF4PX"
      }
    },
    {
      "cell_type": "code",
      "execution_count": null,
      "metadata": {
        "id": "UrgV_dSeOQ2D"
      },
      "outputs": [],
      "source": [
        "import pandas as pd\n",
        "import seaborn as sns"
      ]
    },
    {
      "cell_type": "markdown",
      "source": [
        "Load the Google Forms .csv into a Pandas dataframe."
      ],
      "metadata": {
        "id": "RCNeWSGHOTzt"
      }
    },
    {
      "cell_type": "code",
      "source": [
        "df ="
      ],
      "metadata": {
        "id": "YrxOp3emOVyv"
      },
      "execution_count": null,
      "outputs": []
    },
    {
      "cell_type": "markdown",
      "source": [
        "Print out the .head() and the datatypes."
      ],
      "metadata": {
        "id": "cIwmiGnWOW8j"
      }
    },
    {
      "cell_type": "code",
      "source": [],
      "metadata": {
        "id": "ybJmVVrQOYeg"
      },
      "execution_count": null,
      "outputs": []
    },
    {
      "cell_type": "markdown",
      "source": [
        "Change the column names of the dataframe to better reflect the content."
      ],
      "metadata": {
        "id": "zpB5urhEOY6M"
      }
    },
    {
      "cell_type": "code",
      "source": [],
      "metadata": {
        "id": "ivt-CCAzO-Ac"
      },
      "execution_count": null,
      "outputs": []
    },
    {
      "cell_type": "markdown",
      "source": [
        "Drop the timestamp column (set axis = 1 as second argument)"
      ],
      "metadata": {
        "id": "b_RGzePwPnS8"
      }
    },
    {
      "cell_type": "code",
      "source": [],
      "metadata": {
        "id": "DLLZ282zPoxv"
      },
      "execution_count": null,
      "outputs": []
    },
    {
      "cell_type": "markdown",
      "source": [
        "If necessary, clean the data of any irregular values (e.g. non-numerical number of pets, incorrectly-formatted state info)"
      ],
      "metadata": {
        "id": "AQUu5UKuXGER"
      }
    },
    {
      "cell_type": "code",
      "source": [],
      "metadata": {
        "id": "fs7aVoZcX3oz"
      },
      "execution_count": null,
      "outputs": []
    },
    {
      "cell_type": "markdown",
      "source": [
        "What are the value counts of each state?"
      ],
      "metadata": {
        "id": "P2uXvgrbPCjg"
      }
    },
    {
      "cell_type": "code",
      "source": [],
      "metadata": {
        "id": "UGzm91xSPD3r"
      },
      "execution_count": null,
      "outputs": []
    },
    {
      "cell_type": "markdown",
      "source": [
        "If people left the country column blank, it's filled with an NaN and that means they're American. Fill these NaN values with 'USA'."
      ],
      "metadata": {
        "id": "9AuI0mAIPEvQ"
      }
    },
    {
      "cell_type": "code",
      "source": [],
      "metadata": {
        "id": "GrirhkIZPNKN"
      },
      "execution_count": null,
      "outputs": []
    },
    {
      "cell_type": "markdown",
      "source": [
        "How many Americans are there? How about non-Americans?"
      ],
      "metadata": {
        "id": "Gcz8zJDm8kTt"
      }
    },
    {
      "cell_type": "code",
      "source": [],
      "metadata": {
        "id": "Hrc4tMdx8lYu"
      },
      "execution_count": null,
      "outputs": []
    },
    {
      "cell_type": "markdown",
      "source": [
        "What is the mean graduation year?"
      ],
      "metadata": {
        "id": "HidC2PQePYeD"
      }
    },
    {
      "cell_type": "code",
      "source": [],
      "metadata": {
        "id": "cAmZw8XyPZtQ"
      },
      "execution_count": null,
      "outputs": []
    },
    {
      "cell_type": "markdown",
      "source": [
        "What is the median number of pets?"
      ],
      "metadata": {
        "id": "wfCvgYZYPaJw"
      }
    },
    {
      "cell_type": "code",
      "source": [],
      "metadata": {
        "id": "vTc3l1MkPmFn"
      },
      "execution_count": null,
      "outputs": []
    },
    {
      "cell_type": "markdown",
      "source": [
        "What is the max and min number of roommates?"
      ],
      "metadata": {
        "id": "pnzR3ZQQPuCZ"
      }
    },
    {
      "cell_type": "code",
      "source": [],
      "metadata": {
        "id": "ifh6ASv4PvdP"
      },
      "execution_count": null,
      "outputs": []
    },
    {
      "cell_type": "markdown",
      "source": [
        "Find the 5 members who have attended the greatest amount of Michigan Football Games. Hint: use .sort_values()"
      ],
      "metadata": {
        "id": "Yb2GTfb2fSd7"
      }
    },
    {
      "cell_type": "code",
      "source": [],
      "metadata": {
        "id": "a-sa-zPbf0RM"
      },
      "execution_count": null,
      "outputs": []
    },
    {
      "cell_type": "markdown",
      "source": [
        "Now find the 5 members who have attended the least Michigan Football Games."
      ],
      "metadata": {
        "id": "xHqbnCtdf0qe"
      }
    },
    {
      "cell_type": "code",
      "source": [],
      "metadata": {
        "id": "DLmfE1oKgJqc"
      },
      "execution_count": null,
      "outputs": []
    },
    {
      "cell_type": "markdown",
      "source": [
        "What is the percentage of people who have 1 pet compared to the entire population?"
      ],
      "metadata": {
        "id": "ZkJJJcYMQDl9"
      }
    },
    {
      "cell_type": "code",
      "source": [],
      "metadata": {
        "id": "5EOCsgZ9QHp1"
      },
      "execution_count": null,
      "outputs": []
    },
    {
      "cell_type": "markdown",
      "source": [
        "What is the correlation between number of roommates and graduation year?"
      ],
      "metadata": {
        "id": "qoQ5l-MpPv2I"
      }
    },
    {
      "cell_type": "code",
      "source": [],
      "metadata": {
        "id": "BiXeULaDPyAs"
      },
      "execution_count": null,
      "outputs": []
    },
    {
      "cell_type": "markdown",
      "source": [
        "Graph the number of people we have from each state using seaborn (Hint: create a bar chart/histogram)"
      ],
      "metadata": {
        "id": "_tZTh_gGPy6b"
      }
    },
    {
      "cell_type": "code",
      "source": [
        "\n"
      ],
      "metadata": {
        "id": "aj5NRTyrP3Ip"
      },
      "execution_count": null,
      "outputs": []
    },
    {
      "cell_type": "markdown",
      "source": [
        "When you're done, help the other people around you :)"
      ],
      "metadata": {
        "id": "oznBxpDgQkB3"
      }
    },
    {
      "cell_type": "markdown",
      "source": [
        "#***Extra Exercises***"
      ],
      "metadata": {
        "id": "UwfD2uB0-DTc"
      }
    },
    {
      "cell_type": "markdown",
      "source": [
        "Congratulations on powering through your first work session as a member of the Fall 2025 Michigan Data Science Team!!\n",
        "\n",
        "Now that you've had some hands-on experience manipulating and exploring structured data (which we conveniently gave to you in a tidy .csv file), it's time to bring those skills to some unstructured data.\n",
        "\n",
        "Provided below is a list of people and some of their attributes. Using this information and the Pandas Cheat Sheet, create a structured dataframe containing each person and their features. After you do this, research the same questions we looked at for the Criminal Risk Assessment team member data, as well as any other questions that may interest you.\n",
        "\n",
        "***NOTE:*** If you don't want to type out all of the columns, focus on a handful of attributes that are most interesting to you (i.e. year, coding experience, coffee consumption)\n",
        "\n",
        "**Happy coding!!**"
      ],
      "metadata": {
        "id": "iHprvYgA-aGw"
      }
    },
    {
      "cell_type": "markdown",
      "source": [
        "1. Name: Robert, Sex: Male, Major: DS, Year: 2029, State: N/A, Country: Canada, Coding Experience: 2, Pets: 2, Credits: 18, Roommates: 3, Games Attended: 53, Cups of Coffee Drank Today: 0\n",
        "\n",
        "2. Name: Prasana, Sex: Female, Major: Information Analysis, Year: 2026, State: Colorado, Country: N/A, Coding Experience: 8, Pets: 0, Credits: 14, Roommates: 1, Games Attended: 3, Cups of Coffee Drank Today: 6\n",
        "\n",
        "3. Name: Theodore, Sex: Male, Major: CS, Year: 2027, State: Michigan, Country: N/A, Coding Experience: 0, Pets: 0, Credits: 17, Roommates: 2, Games Attended: 0, Cups of Coffee Drank Today: 1\n",
        "\n",
        "4. Name: Andrea, Sex: Female, Major: DS, Year: 2029, State: Michigan, Country: N/A, Coding Experience: 2, Pets: 3, Credits: 15, Roommates: 2, Games Attended: 4, Cups of Coffee Drank Today: 1\n",
        "\n",
        "5. Name: Andrea, Sex: Female, Major: DS, Year: 2027, State: Michigan, Country: N/A, Coding Experience: 1, Pets: 6, Credits: 15, Roommates: 1, Games Attended: 3, Cups of Coffee Drank Today: 0\n",
        "\n",
        "6. Name: Maya, Sex: Female, Major: CS, Year: 2028, State: California, Country: N/A, Coding Experience: 5, Pets: 1, Credits: 16, Roommates: 2, Games Attended: 12, Cups of Coffee Drank Today: 3\n",
        "\n",
        "7. Name: Daniel, Sex: Male, Major: Information Analysis, Year: 2027, State: N/A, Country: India, Coding Experience: 7, Pets: 0, Credits: 15, Roommates: 1, Games Attended: 6, Cups of Coffee Drank Today: 2\n",
        "\n",
        "8. Name: Sofia, Sex: Female, Major: DS, Year: 2026, State: Texas, Country: N/A, Coding Experience: 3, Pets: 2, Credits: 18, Roommates: 3, Games Attended: 25, Cups of Coffee Drank Today: 1\n",
        "\n",
        "9. Name: Liam, Sex: Male, Major: CS, Year: 2029, State: Illinois, Country: N/A, Coding Experience: 1, Pets: 0, Credits: 12, Roommates: 4, Games Attended: 2, Cups of Coffee Drank Today: 4\n",
        "\n",
        "10. Name: Aisha, Sex: Female, Major: Information Analysis, Year: 2028, State: N/A, Country: UAE, Coding Experience: 6, Pets: 1, Credits: 17, Roommates: 2, Games Attended: 9, Cups of Coffee Drank Today: 0\n",
        "\n",
        "11. Name: Ethan, Sex: Male, Major: DS, Year: 2027, State: Ohio, Country: N/A, Coding Experience: 4, Pets: 1, Credits: 16, Roommates: 2, Games Attended: 7, Cups of Coffee Drank Today: 2\n",
        "\n",
        "12. Name: Clara, Sex: Female, Major: CS, Year: 2028, State: N/A, Country: Germany, Coding Experience: 3, Pets: 0, Credits: 18, Roommates: 1, Games Attended: 11, Cups of Coffee Drank Today: 1\n",
        "\n",
        "13. Name: Mateo, Sex: Male, Major: Information Analysis, Year: 2026, State: Florida, Country: N/A, Coding Experience: 6, Pets: 2, Credits: 14, Roommates: 3, Games Attended: 18, Cups of Coffee Drank Today: 5\n",
        "\n",
        "14. Name: Yuna, Sex: Female, Major: DS, Year: 2029, State: N/A, Country: South Korea, Coding Experience: 2, Pets: 0, Credits: 13, Roommates: 2, Games Attended: 1, Cups of Coffee Drank Today: 0\n",
        "\n",
        "15. Name: Marcus, Sex: Male, Major: CS, Year: 2028, State: New York, Country: N/A, Coding Experience: 8, Pets: 1, Credits: 17, Roommates: 2, Games Attended: 22, Cups of Coffee Drank Today: 3"
      ],
      "metadata": {
        "id": "AjPtoEvaBIyF"
      }
    }
  ]
}